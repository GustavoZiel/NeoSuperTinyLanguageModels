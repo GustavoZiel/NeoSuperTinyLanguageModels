{
 "cells": [
  {
   "cell_type": "code",
   "execution_count": 1,
   "id": "bb6205f0",
   "metadata": {},
   "outputs": [
    {
     "name": "stderr",
     "output_type": "stream",
     "text": [
      "/home/ziel/codes/SIPGA/NeoSuperTinyLanguageModels/.venv/lib/python3.11/site-packages/tqdm/auto.py:21: TqdmWarning: IProgress not found. Please update jupyter and ipywidgets. See https://ipywidgets.readthedocs.io/en/stable/user_install.html\n",
      "  from .autonotebook import tqdm as notebook_tqdm\n"
     ]
    }
   ],
   "source": [
    "import os\n",
    "# import random\n",
    "# import re\n",
    "# from dataclasses import dataclass\n",
    "# from typing import List\n",
    "\n",
    "# import numpy as np\n",
    "# import torch\n",
    "from datasets import (\n",
    "    Dataset,\n",
    "    DatasetDict,\n",
    "    concatenate_datasets,\n",
    "    load_dataset,\n",
    "    load_from_disk,\n",
    ")\n",
    "# from pydantic import BaseModel, Field\n",
    "# from torch.distributed import get_rank, get_world_size\n",
    "# from typing_extensions import Literal"
   ]
  },
  {
   "cell_type": "code",
   "execution_count": 2,
   "id": "c6995b8c",
   "metadata": {},
   "outputs": [],
   "source": [
    "DATA_PATH = \"/home/ziel/codes/SIPGA/scripts/data\"\n",
    "\n",
    "\n",
    "def load_custom_dataset(dataset_name: str):\n",
    "    return load_from_disk(os.path.join(DATA_PATH, dataset_name))\n",
    "\n",
    "\n",
    "DATASET_DICT = {\n",
    "    \"sports_wiki\": lambda: load_custom_dataset(\"wiki_20231101.en_filtered\"),\n",
    "    # ---\n",
    "    \"wiki_biology\": lambda: load_dataset(\"mattany/wikipedia-biology\"),\n",
    "    \"wiki_movies\": lambda: load_dataset(\"yashassnadig/wikimovies\"),\n",
    "    \"nano_wiki\": lambda: load_dataset(\"sixf0ur/nano_wiki\"),\n",
    "    \"wiki_paragraphs\": lambda: load_dataset(\"agentlans/wikipedia-paragraphs\"),\n",
    "    \"wiki_solarsystem\": lambda: load_dataset(\"mattany/wikipedia-solarsystem\"),\n",
    "    \"wiki_3000\": lambda: load_dataset(\"not-lain/wikipedia-small-3000-embedded\"),\n",
    "    \"ap_news_2024\": lambda: load_dataset(\"PJMixers/AP-News-2024\"),\n",
    "    # ---\n",
    "    \"debug\": lambda: load_dataset(\"wikimedia/wikipedia\", \"20231101.simple\"),\n",
    "    \"en_wiki\": lambda: load_dataset(\"wikimedia/wikipedia\", \"20231101.en\"),\n",
    "    \"simple_en_wiki\": lambda: load_dataset(\"wikimedia/wikipedia\", \"20231101.simple\"),\n",
    "    \"babylm_100m\": lambda: load_dataset(\n",
    "        \"Sree1994/babylm_100M\"\n",
    "    ),  # https://babylm.github.io/\n",
    "    \"tinystories\": lambda: load_dataset(\n",
    "        \"roneneldan/TinyStories\"\n",
    "    ),  # https://huggingface.co/datasets/roneneldan/TinyStories\n",
    "}"
   ]
  },
  {
   "cell_type": "code",
   "execution_count": 23,
   "id": "d5c67bdb",
   "metadata": {},
   "outputs": [],
   "source": [
    "selected_datasets = \"wiki_paragraphs\"\n",
    "dataset = DATASET_DICT[selected_datasets]()"
   ]
  },
  {
   "cell_type": "code",
   "execution_count": 20,
   "id": "2917f1eb",
   "metadata": {},
   "outputs": [],
   "source": [
    "# dataset = dataset.shuffle(seed=42)\n",
    "# for i in dataset[\"train\"].select(range(5)):\n",
    "#     print(i)\n",
    "#     print(\"=\" * 20)"
   ]
  },
  {
   "cell_type": "code",
   "execution_count": 28,
   "id": "cf312a1f",
   "metadata": {},
   "outputs": [
    {
     "name": "stdout",
     "output_type": "stream",
     "text": [
      "DatasetDict({\n",
      "    train: Dataset({\n",
      "        features: ['title', 'text'],\n",
      "        num_rows: 19629\n",
      "    })\n",
      "    val: Dataset({\n",
      "        features: ['title', 'text'],\n",
      "        num_rows: 2182\n",
      "    })\n",
      "})\n"
     ]
    }
   ],
   "source": [
    "test_size = 0.1\n",
    "seed = 2004\n",
    "# shuffle = True\n",
    "shuffle = False\n",
    "split_dataset = dataset[\"train\"].train_test_split(\n",
    "    test_size=test_size, seed=seed, shuffle=shuffle\n",
    ")\n",
    "\n",
    "split_dataset[\"val\"] = split_dataset.pop(\"test\")\n",
    "print(split_dataset)"
   ]
  },
  {
   "cell_type": "code",
   "execution_count": 30,
   "id": "6d0a0c75",
   "metadata": {},
   "outputs": [
    {
     "data": {
      "text/plain": [
       "'Perhaps the first public statement on the matter to be both serious and strong came from Catherine II (Catherine the Great), whose liberal views were consistent with her acceptance of the Enlightenment. In her Nakaz of 1767, the empress expressed disdain for the death penalty, considering it to be improper, adding: \"In the usual state of the society, the death penalty is neither useful nor needed.\" However, an explicit exception was still allowed for the case of someone who, even while convicted and incarcerated, \"still has the means and the might to ignite public unrest\". This specific exception applied to mutineers of Pugachev\\'s Rebellion in 1775. Consistent with Catherine\\'s stance, the next several decades marked a shift in public perception against the death penalty. In 1824, the very existence of such a punishment was among the reasons for the legislature\\'s refusal to approve a new version of the Penal Code. Just one year later, the Decembrist revolt failed, and a court sentenced 36 of the rebels to death. Nicholas I\\'s decision to commute all but five of the sentences was highly unusual for the time, especially taking into account that revolts against the monarchy had almost universally resulted in an automatic death sentence, and was perhaps due to society\\'s changing views of the death penalty. By the late 1890s, capital punishment for murder was virtually never carried out, but substituted with 10 to 15 years imprisonment with hard labor, although it still was carried out for treason . However, in 1910, capital punishment was reintroduced and expanded, although still very seldom used.'"
      ]
     },
     "execution_count": 30,
     "metadata": {},
     "output_type": "execute_result"
    }
   ],
   "source": [
    "dataset[\"train\"][\"text\"][0]"
   ]
  },
  {
   "cell_type": "code",
   "execution_count": 29,
   "id": "6564051e",
   "metadata": {},
   "outputs": [
    {
     "name": "stdout",
     "output_type": "stream",
     "text": [
      "Perhaps the first public statement on the matter to be both serious and strong came from Catherine I\n",
      "-----\n",
      "Over the next several decades, the death penalty was alternately permitted and prohibited, sometimes\n",
      "-----\n",
      "Chester Himes was born in Jefferson City, Missouri, on July 29, 1909, to Joseph Sandy Himes and Este\n",
      "-----\n",
      "The Euallomyces life cycle is an anisogamous alternation of generations between a haploid gametophyt\n",
      "-----\n",
      "Humenik joined the PGA Tour in 1989, gaining his Tour card through qualifying school. After struggli\n",
      "-----\n"
     ]
    }
   ],
   "source": [
    "for i in range(5):\n",
    "    print(split_dataset[\"train\"][\"text\"][i][:100])\n",
    "    print(\"-----\")"
   ]
  }
 ],
 "metadata": {
  "kernelspec": {
   "display_name": "neosupertinylanguagemodels",
   "language": "python",
   "name": "python3"
  },
  "language_info": {
   "codemirror_mode": {
    "name": "ipython",
    "version": 3
   },
   "file_extension": ".py",
   "mimetype": "text/x-python",
   "name": "python",
   "nbconvert_exporter": "python",
   "pygments_lexer": "ipython3",
   "version": "3.11.2"
  }
 },
 "nbformat": 4,
 "nbformat_minor": 5
}
